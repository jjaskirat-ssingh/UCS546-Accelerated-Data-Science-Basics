{
 "cells": [
  {
   "cell_type": "markdown",
   "metadata": {},
   "source": [
    "# NumPy (Numerical Python)\n",
    "1. NumPy is the fundamental package for scientific computing in Python.\n",
    "2. It is a Python library that provides a multidimensional array object, various derived objects (such as masked arrays and matrices),\n",
    "3. An assortment of routines for fast operations on arrays, including mathematical, logical, shape manipulation, sorting, selecting, I/O, discrete Fourier transforms, basic linear algebra, basic statistical operations, and many more.\n",
    "4. At the core of the NumPy package, is the ndarray object. This encapsulates n-dimensional arrays of homogeneous data types, with many operations being performed in compiled code for performance. "
   ]
  },
  {
   "attachments": {
    "1.png": {
     "image/png": "[encoded data removed]"
    }
   },
   "cell_type": "markdown",
   "metadata": {},
   "source": [
    "![1.png](attachment:1.png)"
   ]
  },
  {
   "cell_type": "markdown",
   "metadata": {},
   "source": [
    "# NumPy Array vs. Python Sequneces\n",
    "1. NumPy arrays have a fixed size at creation, unlike Python lists (which can grow dynamically)\n",
    "2. NumPy arrays facilitate advanced mathematical and other types of operations on large numbers of data. Typically, such operations are executed more efficiently and with less code than is possible using Python’s built-in sequences."
   ]
  },
  {
   "cell_type": "markdown",
   "metadata": {},
   "source": [
    "# Installing and Importing NumPy\n",
    "1. NumPy can be installed with conda, with pip \n",
    "2. If we use conda, we can install NumPy as : conda install numpy\n",
    "3. If we use pip, we can install NumPy as : pip install numpy\n",
    "4. Once the package has been installed, it need to be imported."
   ]
  },
  {
   "cell_type": "code",
   "execution_count": 3,
   "metadata": {},
   "outputs": [
    {
     "name": "stdout",
     "output_type": "stream",
     "text": [
      "Requirement already satisfied: numpy in c:\\users\\jasme\\anaconda3\\lib\\site-packages (1.18.1)\n"
     ]
    }
   ],
   "source": [
    "!pip install numpy\n",
    "import numpy as np"
   ]
  },
  {
   "cell_type": "markdown",
   "metadata": {},
   "source": [
    "# NumPy Array Basics\n",
    "NumPy’s array class is called ndarray. It is also known by the alias array. The more important attributes of an ndarray object are:\n",
    "1. ndarray.ndim- the number of axes (dimensions) of the array\n",
    "2. ndarray.shape- the dimensions of the array. This is a tuple of integers indicating the size of the array in each dimension.\n",
    "3. ndarray.size- the total number of elements of the array. This is equal to the product of the elements of shape.\n",
    "4. ndarray.dtype- an object describing the type of the elements in the array. NumPy provides types of its own. numpy.int32, numpy.int16, and numpy.float64 are some examples.\n",
    "5. ndarray.itemsize- the size in bytes of each element of the array. For example, an array of elements of type float64 has itemsize 8 (=64/8)\n",
    "6. ndarray.data-the buffer containing the actual elements of the array."
   ]
  },
  {
   "cell_type": "markdown",
   "metadata": {},
   "source": [
    "# Creating Arrays\n",
    "There are 6 general mechanisms for creating arrays:\n",
    "1. Conversion from other Python structures (i.e. lists and tuples)\n",
    "2. Intrinsic NumPy array creation functions (e.g. arange, ones, zeros, etc.)\n",
    "3. Replicating, joining, or mutating existing arrays\n",
    "4. Reading arrays from disk, either from standard or custom formats\n",
    "5. Using Random Sampling\n",
    "6. Use of special library functions (e.g., Pandas, scipy)"
   ]
  },
  {
   "cell_type": "markdown",
   "metadata": {},
   "source": [
    "# 1. Creating Arrays- From Python Sequneces\n",
    "NumPy arrays can be defined using Python sequences such as lists and tuples. Lists and tuples are defined using [...] and (...), respectively.\n",
    "Lists and tuples can define ndarray creation:\n",
    "1. a list of numbers will create a 1D array,\n",
    "2. a list of lists will create a 2D array,\n",
    "3. further nested lists will create higher-dimensional arrays. In general, any array object is called an ndarray in NumPy."
   ]
  },
  {
   "cell_type": "code",
   "execution_count": 4,
   "metadata": {},
   "outputs": [],
   "source": [
    "a1D = np.array([1, 2, 3, 4])\n",
    "a2D = np.array([[1, 2], [3, 4]])\n",
    "a3D = np.array([[[1, 2], [3, 4]],\n",
    "                    [[5, 6], [7, 8]]])"
   ]
  },
  {
   "cell_type": "code",
   "execution_count": 5,
   "metadata": {},
   "outputs": [
    {
     "name": "stdout",
     "output_type": "stream",
     "text": [
      "[[1 2]\n",
      " [3 4]]\n"
     ]
    }
   ],
   "source": [
    "print(a2D)"
   ]
  },
  {
   "cell_type": "code",
   "execution_count": 6,
   "metadata": {},
   "outputs": [
    {
     "name": "stdout",
     "output_type": "stream",
     "text": [
      "Dimensions- 3\n",
      "Shape- (2, 2, 2)\n",
      "Size- 8\n",
      "Dtype- int32\n",
      "ItemSize- 4\n"
     ]
    }
   ],
   "source": [
    "print('Dimensions-',a3D.ndim)\n",
    "print('Shape-',a3D.shape)\n",
    "print('Size-',a3D.size)\n",
    "print('Dtype-',a3D.dtype)\n",
    "print('ItemSize-',a3D.itemsize)"
   ]
  },
  {
   "cell_type": "markdown",
   "metadata": {},
   "source": [
    "# 2. Creating Arrays- Intrinsic Functions\n",
    "NumPy has over 40 built-in functions for creating arrays as laid out in the Array creation routines. \n",
    "These functions can be split into roughly three categories, based on the dimension of the array they create:\n",
    "1. 1D arrays\n",
    "2. 2D arrays\n",
    "3. ndarrays"
   ]
  },
  {
   "cell_type": "markdown",
   "metadata": {},
   "source": [
    "# 2.1-1D Array Creation Functions\n",
    "The 1D array creation functions e.g. numpy.linspace and numpy.arange generally need at least two inputs, start and stop.\n"
   ]
  },
  {
   "cell_type": "markdown",
   "metadata": {},
   "source": [
    "# numpy.arange\n",
    "numpy.arange creates arrays with regularly incrementing values.\n",
    "1. Syntax: numpy.arange([start, ]stop, [step, ], dtype=None, like=None)"
   ]
  },
  {
   "cell_type": "code",
   "execution_count": 7,
   "metadata": {},
   "outputs": [
    {
     "name": "stdout",
     "output_type": "stream",
     "text": [
      "(array([0, 1, 2, 3, 4, 5, 6, 7, 8, 9]),) [2. 3. 4. 5. 6. 7. 8. 9.] [2.  2.1 2.2 2.3 2.4 2.5 2.6 2.7 2.8 2.9]\n"
     ]
    }
   ],
   "source": [
    "a=np.arange(10), \n",
    "b=np.arange(2, 10, dtype=float)\n",
    "c=np.arange(2, 3, 0.1)\n",
    "print(a,b,c)"
   ]
  },
  {
   "cell_type": "markdown",
   "metadata": {},
   "source": [
    "# numpy.linspace \n",
    "It will create arrays with a specified number of elements, and spaced equally between the specified beginning and end values.\n",
    "1. Syntax: numpy.linspace(start, stop, num=50, endpoint=True, retstep=False, dtype= None, axis=0)"
   ]
  },
  {
   "cell_type": "code",
   "execution_count": 8,
   "metadata": {},
   "outputs": [
    {
     "data": {
      "text/plain": [
       "array([1. , 1.6, 2.2, 2.8, 3.4, 4. ])"
      ]
     },
     "execution_count": 8,
     "metadata": {},
     "output_type": "execute_result"
    }
   ],
   "source": [
    "np.linspace(1., 4., 6)"
   ]
  },
  {
   "cell_type": "markdown",
   "metadata": {},
   "source": [
    "# 2.2-2D array creation functions\n",
    "The 2D array creation functions e.g. numpy.eye, numpy.diag, and numpy.vander define properties of special matrices represented as 2D arrays."
   ]
  },
  {
   "cell_type": "markdown",
   "metadata": {},
   "source": [
    "# numy.eye\n",
    "np.eye(n, m) defines a 2D identity matrix.\n",
    "1. Syntax: numpy.eye(N, M=None, k=0, dtype=, order=‘C or F', *, like=None)\n",
    " k denotes Index of the diagonal: 0 (the default) refers to the main diagonal, a positive value refers to an upper diagonal, and a negative value to a lower diagonal.\n"
   ]
  },
  {
   "cell_type": "code",
   "execution_count": 9,
   "metadata": {},
   "outputs": [
    {
     "name": "stdout",
     "output_type": "stream",
     "text": [
      "[[1 0 0]\n",
      " [0 1 0]\n",
      " [0 0 1]]\n",
      "[[0. 1. 0. 0. 0.]\n",
      " [0. 0. 1. 0. 0.]\n",
      " [0. 0. 0. 1. 0.]]\n"
     ]
    }
   ],
   "source": [
    "a=np.eye(3,dtype=np.int)\n",
    "b=np.eye(3, 5,k=1)\n",
    "print(a)\n",
    "print(b)"
   ]
  },
  {
   "cell_type": "markdown",
   "metadata": {},
   "source": [
    "# numpy.diag\n",
    "numpy.diag Extract a diagonal or construct a diagonal array.\n",
    "1. Syntax: numpy.diag(v, k=0)\n",
    " If v is a 2-D array, return a copy of its k-th diagonal. If v is a 1-D array, return a 2-D array with v on the k-th diagonal.\n"
   ]
  },
  {
   "cell_type": "code",
   "execution_count": 10,
   "metadata": {},
   "outputs": [
    {
     "data": {
      "text/plain": [
       "(array([[1, 0, 0],\n",
       "        [0, 2, 0],\n",
       "        [0, 0, 3]]),)"
      ]
     },
     "execution_count": 10,
     "metadata": {},
     "output_type": "execute_result"
    }
   ],
   "source": [
    "np.diag([1, 2, 3]), "
   ]
  },
  {
   "cell_type": "code",
   "execution_count": 11,
   "metadata": {},
   "outputs": [
    {
     "data": {
      "text/plain": [
       "array([1, 4])"
      ]
     },
     "execution_count": 11,
     "metadata": {},
     "output_type": "execute_result"
    }
   ],
   "source": [
    "a = np.array([[1, 2], [3, 4]])\n",
    "np.diag(a)\n"
   ]
  },
  {
   "cell_type": "markdown",
   "metadata": {},
   "source": [
    "# numpy.vander\n",
    "numpy.vander  constructs a  Vandermonde matrix i.e. the columns of the output matrix are powers of the input vector.\n",
    "Syntax: numpy.vander(x, N=None, increasing =False)\n",
    " Parameters: x: 1-D array, N= Number of columns  (default  square array with N=len(x);  Increasing- Order of the powers of the columns. If True, the powers increase from left to right, if False (the default) they are reversed."
   ]
  },
  {
   "cell_type": "code",
   "execution_count": 12,
   "metadata": {},
   "outputs": [
    {
     "data": {
      "text/plain": [
       "array([[0. , 1. ],\n",
       "       [0.5, 1. ],\n",
       "       [1. , 1. ],\n",
       "       [1.5, 1. ],\n",
       "       [2. , 1. ]])"
      ]
     },
     "execution_count": 12,
     "metadata": {},
     "output_type": "execute_result"
    }
   ],
   "source": [
    "np.vander(np.linspace(0, 2, 5), 2) "
   ]
  },
  {
   "cell_type": "code",
   "execution_count": 13,
   "metadata": {},
   "outputs": [
    {
     "data": {
      "text/plain": [
       "array([[1, 1],\n",
       "       [2, 1],\n",
       "       [3, 1],\n",
       "       [4, 1]])"
      ]
     },
     "execution_count": 13,
     "metadata": {},
     "output_type": "execute_result"
    }
   ],
   "source": [
    "np.vander([1, 2, 3, 4], 2)"
   ]
  },
  {
   "cell_type": "code",
   "execution_count": 14,
   "metadata": {},
   "outputs": [
    {
     "data": {
      "text/plain": [
       "array([[ 1,  1,  1,  1],\n",
       "       [ 8,  4,  2,  1],\n",
       "       [27,  9,  3,  1],\n",
       "       [64, 16,  4,  1]])"
      ]
     },
     "execution_count": 14,
     "metadata": {},
     "output_type": "execute_result"
    }
   ],
   "source": [
    "np.vander((1, 2, 3, 4), 4)"
   ]
  },
  {
   "cell_type": "markdown",
   "metadata": {},
   "source": [
    "# 2.3-General ndarray creation functions\n",
    "The ndarray creation functions e.g. numpy.ones, numpy.zeros, numpy.identity and numpy.empty define arrays based upon the desired shape.\n"
   ]
  },
  {
   "cell_type": "markdown",
   "metadata": {},
   "source": [
    "# numpy.ones\n",
    "numpy.ones Return a new array of given shape and type, filled with ones.\n",
    "1. Syntax:numpy.ones(shape, dtype=None, order='C', like=None)\n"
   ]
  },
  {
   "cell_type": "code",
   "execution_count": 15,
   "metadata": {},
   "outputs": [
    {
     "data": {
      "text/plain": [
       "array([[1., 1., 1.],\n",
       "       [1., 1., 1.]])"
      ]
     },
     "execution_count": 15,
     "metadata": {},
     "output_type": "execute_result"
    }
   ],
   "source": [
    "np.ones((2, 3))"
   ]
  },
  {
   "cell_type": "code",
   "execution_count": 16,
   "metadata": {},
   "outputs": [
    {
     "data": {
      "text/plain": [
       "array([[[1., 1.],\n",
       "        [1., 1.],\n",
       "        [1., 1.]],\n",
       "\n",
       "       [[1., 1.],\n",
       "        [1., 1.],\n",
       "        [1., 1.]]])"
      ]
     },
     "execution_count": 16,
     "metadata": {},
     "output_type": "execute_result"
    }
   ],
   "source": [
    "np.ones((2, 3, 2),dtype=np.float)"
   ]
  },
  {
   "cell_type": "markdown",
   "metadata": {},
   "source": [
    "# numpy.zeros\n",
    "numpy.zeros Return a new array of given shape and type, filled with zeros.\n",
    "1. Syntax:numpy.zeros(shape, dtype=None, order='C', like=None)"
   ]
  },
  {
   "cell_type": "code",
   "execution_count": 17,
   "metadata": {},
   "outputs": [
    {
     "data": {
      "text/plain": [
       "array([[0., 0., 0.],\n",
       "       [0., 0., 0.]])"
      ]
     },
     "execution_count": 17,
     "metadata": {},
     "output_type": "execute_result"
    }
   ],
   "source": [
    "np.zeros((2, 3))"
   ]
  },
  {
   "cell_type": "code",
   "execution_count": 18,
   "metadata": {},
   "outputs": [
    {
     "data": {
      "text/plain": [
       "array([[[0., 0.],\n",
       "        [0., 0.],\n",
       "        [0., 0.]],\n",
       "\n",
       "       [[0., 0.],\n",
       "        [0., 0.],\n",
       "        [0., 0.]]])"
      ]
     },
     "execution_count": 18,
     "metadata": {},
     "output_type": "execute_result"
    }
   ],
   "source": [
    "np.zeros((2, 3, 2),dtype=np.float)"
   ]
  },
  {
   "cell_type": "markdown",
   "metadata": {},
   "source": [
    "# numpy.identity\n",
    "numpy.identity Return the identity array\n",
    "1. Syntax: numpy.identity(n, dtype=None, like=None)"
   ]
  },
  {
   "cell_type": "code",
   "execution_count": 19,
   "metadata": {},
   "outputs": [
    {
     "data": {
      "text/plain": [
       "array([[1., 0., 0.],\n",
       "       [0., 1., 0.],\n",
       "       [0., 0., 1.]])"
      ]
     },
     "execution_count": 19,
     "metadata": {},
     "output_type": "execute_result"
    }
   ],
   "source": [
    "np.identity(3)"
   ]
  },
  {
   "cell_type": "markdown",
   "metadata": {},
   "source": [
    "# numpy.empty\n",
    "numpy.empty return a new array of given shape and type, without initializing entries.\n",
    "1. Syntax: numpy.empty(shape, dtype=float, order='C', *, like=None)"
   ]
  },
  {
   "cell_type": "code",
   "execution_count": 28,
   "metadata": {},
   "outputs": [
    {
     "data": {
      "text/plain": [
       "array([[0. , 0.5, 1. , 1.5, 2. ]])"
      ]
     },
     "execution_count": 28,
     "metadata": {},
     "output_type": "execute_result"
    }
   ],
   "source": [
    "np.empty((1,5))"
   ]
  },
  {
   "cell_type": "markdown",
   "metadata": {},
   "source": [
    "# 3. Creating Arrays- Replicating, joining, or mutating existing arrays\n",
    "New arrays can be created from existing arrays using routines like numpy.concatenate, numpy.block, numpy.vstack, numpy.hstack"
   ]
  },
  {
   "cell_type": "markdown",
   "metadata": {},
   "source": [
    "# numpy.concatenate\n",
    "Join a sequence of arrays along an existing axis.\n",
    "1. Syntax: numpy.concatenate((a1, a2, …), axis=0, dtype=None, casting=\"same_kind\")\n"
   ]
  },
  {
   "cell_type": "code",
   "execution_count": 31,
   "metadata": {},
   "outputs": [
    {
     "data": {
      "text/plain": [
       "array([[1., 1., 0., 0.],\n",
       "       [1., 1., 0., 0.]])"
      ]
     },
     "execution_count": 31,
     "metadata": {},
     "output_type": "execute_result"
    }
   ],
   "source": [
    "A = np.ones((2, 2))\n",
    "B=np.zeros((2,2))\n",
    "np.concatenate((A,B),axis=1)"
   ]
  },
  {
   "cell_type": "markdown",
   "metadata": {},
   "source": [
    "# numpy.block\n",
    "Assemble an nd-array from nested lists of blocks.\n",
    "1. Syntax:numpy.block(arrays)"
   ]
  },
  {
   "cell_type": "code",
   "execution_count": 32,
   "metadata": {},
   "outputs": [
    {
     "data": {
      "text/plain": [
       "array([[1., 1., 0., 0.],\n",
       "       [1., 1., 0., 0.]])"
      ]
     },
     "execution_count": 32,
     "metadata": {},
     "output_type": "execute_result"
    }
   ],
   "source": [
    "np.block([A,B])"
   ]
  },
  {
   "cell_type": "markdown",
   "metadata": {},
   "source": [
    "# numpy.vstack\n",
    "Stack arrays in sequence vertically\n",
    "1. Syntax: numpy.vstack((arrays))\n"
   ]
  },
  {
   "cell_type": "code",
   "execution_count": 33,
   "metadata": {},
   "outputs": [
    {
     "data": {
      "text/plain": [
       "array([[1., 1.],\n",
       "       [1., 1.],\n",
       "       [0., 0.],\n",
       "       [0., 0.]])"
      ]
     },
     "execution_count": 33,
     "metadata": {},
     "output_type": "execute_result"
    }
   ],
   "source": [
    "np.vstack((A,B))\n"
   ]
  },
  {
   "cell_type": "markdown",
   "metadata": {},
   "source": [
    "# numpy.hstack\n",
    "Stack arrays in sequence horizontally\n",
    "1. Syntax: numpy.hstack((arrays))"
   ]
  },
  {
   "cell_type": "code",
   "execution_count": 34,
   "metadata": {},
   "outputs": [
    {
     "data": {
      "text/plain": [
       "array([[1., 1., 0., 0.],\n",
       "       [1., 1., 0., 0.]])"
      ]
     },
     "execution_count": 34,
     "metadata": {},
     "output_type": "execute_result"
    }
   ],
   "source": [
    "np.hstack((A,B))\n"
   ]
  },
  {
   "cell_type": "markdown",
   "metadata": {},
   "source": [
    "# 4. Creating Arrays from Disk\n",
    "1. Delimited files such as comma separated value (csv) and tab separated value (tsv) files are used for programs like Excel and LabView. \n",
    "2. NumPy has two standard routines for importing a file with delimited data numpy.loadtxt and numpy.genfromtxt"
   ]
  },
  {
   "cell_type": "markdown",
   "metadata": {},
   "source": [
    "# numpy.loadtxt \n",
    "1. numpy.loadtxt  Load data from a text file. Each row in the text file must have the same number of values.\n",
    "1. Syntax: numpy.loadtxt(fname, dtype=, delimiter=None,skiprows=0, usecols=None, unpack=False, ndmin=0, encoding='bytes', max_rows=None, *, like=None)"
   ]
  },
  {
   "cell_type": "code",
   "execution_count": 39,
   "metadata": {},
   "outputs": [],
   "source": [
    "a=np.loadtxt('C:/Machine Learning/ML_Datasets/exam.txt',delimiter=',',dtype='str')"
   ]
  },
  {
   "cell_type": "code",
   "execution_count": 40,
   "metadata": {},
   "outputs": [
    {
     "data": {
      "text/plain": [
       "array([['0.051267', '0.69956', '1'],\n",
       "       ['-0.092742', '0.68494', '1'],\n",
       "       ['-0.21371', '0.69225', '1'],\n",
       "       ['-0.375', '0.50219', '1'],\n",
       "       ['-0.51325', '0.46564', '1'],\n",
       "       ['-0.52477', '0.2098', '1'],\n",
       "       ['-0.39804', '0.034357', '1'],\n",
       "       ['-0.30588', '-0.19225', '1'],\n",
       "       ['0.016705', '-0.40424', '1'],\n",
       "       ['0.13191', '-0.51389', '1'],\n",
       "       ['0.38537', '-0.56506', '1'],\n",
       "       ['0.52938', '-0.5212', '1'],\n",
       "       ['0.63882', '-0.24342', '1'],\n",
       "       ['0.73675', '-0.18494', '1'],\n",
       "       ['0.54666', '0.48757', '1'],\n",
       "       ['0.322', '0.5826', ''],\n",
       "       ['0.16647', '0.53874', '1'],\n",
       "       ['-0.046659', '0.81652', '1'],\n",
       "       ['-0.17339', '0.69956', '1'],\n",
       "       ['-0.47869', '0.63377', '1'],\n",
       "       ['-0.60541', '0.59722', '1'],\n",
       "       ['-0.62846', '0.33406', '1'],\n",
       "       ['-0.59389', '0.005117', '1'],\n",
       "       ['-0.42108', '-0.27266', '1'],\n",
       "       ['-0.11578', '-0.39693', '1'],\n",
       "       ['0.20104', '-0.60161', '1'],\n",
       "       ['0.46601', '-0.53582', '1'],\n",
       "       ['0.67339', '-0.53582', '1'],\n",
       "       ['-0.13882', '0.54605', '1'],\n",
       "       ['-0.29435', '0.77997', '1'],\n",
       "       ['-0.26555', '0.96272', '1'],\n",
       "       ['-0.16187', '0.8019', '1'],\n",
       "       ['-0.17339', '0.64839', '1'],\n",
       "       ['-0.28283', '0.47295', '1'],\n",
       "       ['-0.36348', '0.31213', '1'],\n",
       "       ['-0.30012', '0.027047', '1'],\n",
       "       ['-0.23675', '-0.21418', '1'],\n",
       "       ['-0.06394', '-0.18494', '1'],\n",
       "       ['0.062788', '-0.16301', '1'],\n",
       "       ['0.22984', '-0.41155', '1'],\n",
       "       ['0.2932', '-0.2288', '1'],\n",
       "       ['0.48329', '-0.18494', '1'],\n",
       "       ['0.64459', '-0.14108', '1'],\n",
       "       ['0.46025', '0.012427', '1'],\n",
       "       ['0.6273', '0.15863', '1'],\n",
       "       ['0.57546', '0.26827', '1'],\n",
       "       ['0.72523', '0.44371', '1'],\n",
       "       ['0.22408', '0.52412', '1'],\n",
       "       ['0.44297', '0.67032', '1'],\n",
       "       ['0.322', '0.69225', '1'],\n",
       "       ['0.13767', '0.57529', '1'],\n",
       "       ['-0.0063364', '0.39985', '1'],\n",
       "       ['-0.092742', '0.55336', '1'],\n",
       "       ['-0.20795', '0.35599', '1'],\n",
       "       ['-0.20795', '0.17325', '1'],\n",
       "       ['-0.43836', '0.21711', '1'],\n",
       "       ['-0.21947', '-0.016813', '1'],\n",
       "       ['-0.13882', '-0.27266', '1'],\n",
       "       ['0.18376', '0.93348', '0'],\n",
       "       ['0.22408', '0.77997', '0'],\n",
       "       ['0.29896', '0.61915', '0'],\n",
       "       ['0.50634', '0.75804', '0'],\n",
       "       ['0.61578', '0.7288', '0'],\n",
       "       ['0.60426', '0.59722', '0'],\n",
       "       ['0.76555', '0.50219', '0'],\n",
       "       ['0.92684', '0.3633', '0'],\n",
       "       ['0.82316', '0.27558', '0'],\n",
       "       ['0.96141', '0.085526', '0'],\n",
       "       ['0.93836', '0.012427', '0'],\n",
       "       ['0.86348', '-0.082602', '0'],\n",
       "       ['0.89804', '-0.20687', '0'],\n",
       "       ['0.85196', '-0.36769', '0'],\n",
       "       ['0.82892', '-0.5212', '0'],\n",
       "       ['0.79435', '-0.55775', '0'],\n",
       "       ['0.59274', '-0.7405', '0'],\n",
       "       ['0.51786', '-0.5943', '0'],\n",
       "       ['0.46601', '-0.41886', '0'],\n",
       "       ['0.35081', '-0.57968', '0'],\n",
       "       ['0.28744', '-0.76974', '0'],\n",
       "       ['0.085829', '-0.75512', '0'],\n",
       "       ['0.14919', '-0.57968', '0'],\n",
       "       ['-0.13306', '-0.4481', '0'],\n",
       "       ['-0.40956', '-0.41155', '0'],\n",
       "       ['-0.39228', '-0.25804', '0'],\n",
       "       ['-0.74366', '-0.25804', '0'],\n",
       "       ['-0.69758', '0.041667', '0'],\n",
       "       ['-0.75518', '0.2902', '0'],\n",
       "       ['-0.69758', '0.68494', '0'],\n",
       "       ['-0.4038', '0.70687', '0'],\n",
       "       ['-0.38076', '0.91886', '0'],\n",
       "       ['-0.50749', '0.90424', '0'],\n",
       "       ['-0.54781', '0.70687', '0'],\n",
       "       ['0.10311', '0.77997', '0'],\n",
       "       ['0.057028', '0.91886', '0'],\n",
       "       ['-0.10426', '0.99196', '0'],\n",
       "       ['-0.081221', '1.1089', '0'],\n",
       "       ['0.28744', '1.087', '0'],\n",
       "       ['0.39689', '0.82383', '0'],\n",
       "       ['0.63882', '0.88962', '0'],\n",
       "       ['0.82316', '0.66301', '0'],\n",
       "       ['0.67339', '0.64108', '0'],\n",
       "       ['1.0709', '0.10015', '0'],\n",
       "       ['-0.046659', '-0.57968', '0'],\n",
       "       ['-0.23675', '-0.63816', '0'],\n",
       "       ['-0.15035', '-0.36769', '0'],\n",
       "       ['-0.49021', '-0.3019', '0'],\n",
       "       ['-0.46717', '-0.13377', '0'],\n",
       "       ['-0.28859', '-0.060673', '0'],\n",
       "       ['-0.61118', '-0.067982', '0'],\n",
       "       ['-0.66302', '-0.21418', '0'],\n",
       "       ['-0.59965', '-0.41886', '0'],\n",
       "       ['-0.72638', '-0.082602', '0'],\n",
       "       ['-0.83007', '0.31213', '0'],\n",
       "       ['-0.72062', '0.53874', '0'],\n",
       "       ['-0.59389', '0.49488', '0'],\n",
       "       ['-0.48445', '0.99927', '0'],\n",
       "       ['-0.0063364', '0.99927', '0'],\n",
       "       ['0.63265', '-0.030612', '0']], dtype='<U10')"
      ]
     },
     "execution_count": 40,
     "metadata": {},
     "output_type": "execute_result"
    }
   ],
   "source": [
    "a"
   ]
  },
  {
   "cell_type": "markdown",
   "metadata": {},
   "source": [
    "# numpy.genfromtxt\n",
    "1. When there are missing values in the file, then numpy.genfromtxt is used.\n",
    "2. Syntax: numpy.genfromtxt (fname, dtype=, comments='#', delimiter=None, skip_header=0, skip_footer=0, missing_values=None, filling_values=None, usecols=None, names=None, usemask=False, loose=True, max_rows=None, encoding='bytes’)"
   ]
  },
  {
   "cell_type": "code",
   "execution_count": 46,
   "metadata": {},
   "outputs": [],
   "source": [
    "a=np.genfromtxt('C:/Machine Learning/ML_Datasets/exam.txt',delimiter=',',filling_values=99)\n"
   ]
  },
  {
   "cell_type": "code",
   "execution_count": 47,
   "metadata": {},
   "outputs": [
    {
     "data": {
      "text/plain": [
       "array([[ 5.1267e-02,  6.9956e-01,  1.0000e+00],\n",
       "       [-9.2742e-02,  6.8494e-01,  1.0000e+00],\n",
       "       [-2.1371e-01,  6.9225e-01,  1.0000e+00],\n",
       "       [-3.7500e-01,  5.0219e-01,  1.0000e+00],\n",
       "       [-5.1325e-01,  4.6564e-01,  1.0000e+00],\n",
       "       [-5.2477e-01,  2.0980e-01,  1.0000e+00],\n",
       "       [-3.9804e-01,  3.4357e-02,  1.0000e+00],\n",
       "       [-3.0588e-01, -1.9225e-01,  1.0000e+00],\n",
       "       [ 1.6705e-02, -4.0424e-01,  1.0000e+00],\n",
       "       [ 1.3191e-01, -5.1389e-01,  1.0000e+00],\n",
       "       [ 3.8537e-01, -5.6506e-01,  1.0000e+00],\n",
       "       [ 5.2938e-01, -5.2120e-01,  1.0000e+00],\n",
       "       [ 6.3882e-01, -2.4342e-01,  1.0000e+00],\n",
       "       [ 7.3675e-01, -1.8494e-01,  1.0000e+00],\n",
       "       [ 5.4666e-01,  4.8757e-01,  1.0000e+00],\n",
       "       [ 3.2200e-01,  5.8260e-01,  9.9000e+01],\n",
       "       [ 1.6647e-01,  5.3874e-01,  1.0000e+00],\n",
       "       [-4.6659e-02,  8.1652e-01,  1.0000e+00],\n",
       "       [-1.7339e-01,  6.9956e-01,  1.0000e+00],\n",
       "       [-4.7869e-01,  6.3377e-01,  1.0000e+00],\n",
       "       [-6.0541e-01,  5.9722e-01,  1.0000e+00],\n",
       "       [-6.2846e-01,  3.3406e-01,  1.0000e+00],\n",
       "       [-5.9389e-01,  5.1170e-03,  1.0000e+00],\n",
       "       [-4.2108e-01, -2.7266e-01,  1.0000e+00],\n",
       "       [-1.1578e-01, -3.9693e-01,  1.0000e+00],\n",
       "       [ 2.0104e-01, -6.0161e-01,  1.0000e+00],\n",
       "       [ 4.6601e-01, -5.3582e-01,  1.0000e+00],\n",
       "       [ 6.7339e-01, -5.3582e-01,  1.0000e+00],\n",
       "       [-1.3882e-01,  5.4605e-01,  1.0000e+00],\n",
       "       [-2.9435e-01,  7.7997e-01,  1.0000e+00],\n",
       "       [-2.6555e-01,  9.6272e-01,  1.0000e+00],\n",
       "       [-1.6187e-01,  8.0190e-01,  1.0000e+00],\n",
       "       [-1.7339e-01,  6.4839e-01,  1.0000e+00],\n",
       "       [-2.8283e-01,  4.7295e-01,  1.0000e+00],\n",
       "       [-3.6348e-01,  3.1213e-01,  1.0000e+00],\n",
       "       [-3.0012e-01,  2.7047e-02,  1.0000e+00],\n",
       "       [-2.3675e-01, -2.1418e-01,  1.0000e+00],\n",
       "       [-6.3940e-02, -1.8494e-01,  1.0000e+00],\n",
       "       [ 6.2788e-02, -1.6301e-01,  1.0000e+00],\n",
       "       [ 2.2984e-01, -4.1155e-01,  1.0000e+00],\n",
       "       [ 2.9320e-01, -2.2880e-01,  1.0000e+00],\n",
       "       [ 4.8329e-01, -1.8494e-01,  1.0000e+00],\n",
       "       [ 6.4459e-01, -1.4108e-01,  1.0000e+00],\n",
       "       [ 4.6025e-01,  1.2427e-02,  1.0000e+00],\n",
       "       [ 6.2730e-01,  1.5863e-01,  1.0000e+00],\n",
       "       [ 5.7546e-01,  2.6827e-01,  1.0000e+00],\n",
       "       [ 7.2523e-01,  4.4371e-01,  1.0000e+00],\n",
       "       [ 2.2408e-01,  5.2412e-01,  1.0000e+00],\n",
       "       [ 4.4297e-01,  6.7032e-01,  1.0000e+00],\n",
       "       [ 3.2200e-01,  6.9225e-01,  1.0000e+00],\n",
       "       [ 1.3767e-01,  5.7529e-01,  1.0000e+00],\n",
       "       [-6.3364e-03,  3.9985e-01,  1.0000e+00],\n",
       "       [-9.2742e-02,  5.5336e-01,  1.0000e+00],\n",
       "       [-2.0795e-01,  3.5599e-01,  1.0000e+00],\n",
       "       [-2.0795e-01,  1.7325e-01,  1.0000e+00],\n",
       "       [-4.3836e-01,  2.1711e-01,  1.0000e+00],\n",
       "       [-2.1947e-01, -1.6813e-02,  1.0000e+00],\n",
       "       [-1.3882e-01, -2.7266e-01,  1.0000e+00],\n",
       "       [ 1.8376e-01,  9.3348e-01,  0.0000e+00],\n",
       "       [ 2.2408e-01,  7.7997e-01,  0.0000e+00],\n",
       "       [ 2.9896e-01,  6.1915e-01,  0.0000e+00],\n",
       "       [ 5.0634e-01,  7.5804e-01,  0.0000e+00],\n",
       "       [ 6.1578e-01,  7.2880e-01,  0.0000e+00],\n",
       "       [ 6.0426e-01,  5.9722e-01,  0.0000e+00],\n",
       "       [ 7.6555e-01,  5.0219e-01,  0.0000e+00],\n",
       "       [ 9.2684e-01,  3.6330e-01,  0.0000e+00],\n",
       "       [ 8.2316e-01,  2.7558e-01,  0.0000e+00],\n",
       "       [ 9.6141e-01,  8.5526e-02,  0.0000e+00],\n",
       "       [ 9.3836e-01,  1.2427e-02,  0.0000e+00],\n",
       "       [ 8.6348e-01, -8.2602e-02,  0.0000e+00],\n",
       "       [ 8.9804e-01, -2.0687e-01,  0.0000e+00],\n",
       "       [ 8.5196e-01, -3.6769e-01,  0.0000e+00],\n",
       "       [ 8.2892e-01, -5.2120e-01,  0.0000e+00],\n",
       "       [ 7.9435e-01, -5.5775e-01,  0.0000e+00],\n",
       "       [ 5.9274e-01, -7.4050e-01,  0.0000e+00],\n",
       "       [ 5.1786e-01, -5.9430e-01,  0.0000e+00],\n",
       "       [ 4.6601e-01, -4.1886e-01,  0.0000e+00],\n",
       "       [ 3.5081e-01, -5.7968e-01,  0.0000e+00],\n",
       "       [ 2.8744e-01, -7.6974e-01,  0.0000e+00],\n",
       "       [ 8.5829e-02, -7.5512e-01,  0.0000e+00],\n",
       "       [ 1.4919e-01, -5.7968e-01,  0.0000e+00],\n",
       "       [-1.3306e-01, -4.4810e-01,  0.0000e+00],\n",
       "       [-4.0956e-01, -4.1155e-01,  0.0000e+00],\n",
       "       [-3.9228e-01, -2.5804e-01,  0.0000e+00],\n",
       "       [-7.4366e-01, -2.5804e-01,  0.0000e+00],\n",
       "       [-6.9758e-01,  4.1667e-02,  0.0000e+00],\n",
       "       [-7.5518e-01,  2.9020e-01,  0.0000e+00],\n",
       "       [-6.9758e-01,  6.8494e-01,  0.0000e+00],\n",
       "       [-4.0380e-01,  7.0687e-01,  0.0000e+00],\n",
       "       [-3.8076e-01,  9.1886e-01,  0.0000e+00],\n",
       "       [-5.0749e-01,  9.0424e-01,  0.0000e+00],\n",
       "       [-5.4781e-01,  7.0687e-01,  0.0000e+00],\n",
       "       [ 1.0311e-01,  7.7997e-01,  0.0000e+00],\n",
       "       [ 5.7028e-02,  9.1886e-01,  0.0000e+00],\n",
       "       [-1.0426e-01,  9.9196e-01,  0.0000e+00],\n",
       "       [-8.1221e-02,  1.1089e+00,  0.0000e+00],\n",
       "       [ 2.8744e-01,  1.0870e+00,  0.0000e+00],\n",
       "       [ 3.9689e-01,  8.2383e-01,  0.0000e+00],\n",
       "       [ 6.3882e-01,  8.8962e-01,  0.0000e+00],\n",
       "       [ 8.2316e-01,  6.6301e-01,  0.0000e+00],\n",
       "       [ 6.7339e-01,  6.4108e-01,  0.0000e+00],\n",
       "       [ 1.0709e+00,  1.0015e-01,  0.0000e+00],\n",
       "       [-4.6659e-02, -5.7968e-01,  0.0000e+00],\n",
       "       [-2.3675e-01, -6.3816e-01,  0.0000e+00],\n",
       "       [-1.5035e-01, -3.6769e-01,  0.0000e+00],\n",
       "       [-4.9021e-01, -3.0190e-01,  0.0000e+00],\n",
       "       [-4.6717e-01, -1.3377e-01,  0.0000e+00],\n",
       "       [-2.8859e-01, -6.0673e-02,  0.0000e+00],\n",
       "       [-6.1118e-01, -6.7982e-02,  0.0000e+00],\n",
       "       [-6.6302e-01, -2.1418e-01,  0.0000e+00],\n",
       "       [-5.9965e-01, -4.1886e-01,  0.0000e+00],\n",
       "       [-7.2638e-01, -8.2602e-02,  0.0000e+00],\n",
       "       [-8.3007e-01,  3.1213e-01,  0.0000e+00],\n",
       "       [-7.2062e-01,  5.3874e-01,  0.0000e+00],\n",
       "       [-5.9389e-01,  4.9488e-01,  0.0000e+00],\n",
       "       [-4.8445e-01,  9.9927e-01,  0.0000e+00],\n",
       "       [-6.3364e-03,  9.9927e-01,  0.0000e+00],\n",
       "       [ 6.3265e-01, -3.0612e-02,  0.0000e+00]])"
      ]
     },
     "execution_count": 47,
     "metadata": {},
     "output_type": "execute_result"
    }
   ],
   "source": [
    "a"
   ]
  },
  {
   "cell_type": "markdown",
   "metadata": {},
   "source": [
    "# 5. Creating Arrays- Using Random Sampling \n",
    "numpy.random.rand   Create an array of the given shape and populate it with random samples from a uniform distribution over [0, 1)\n",
    " 1. Syntax: random.rand(d0, d1, ..., dn)\n",
    " where d0, d1, …, dnint, optional"
   ]
  },
  {
   "cell_type": "code",
   "execution_count": 48,
   "metadata": {},
   "outputs": [
    {
     "data": {
      "text/plain": [
       "array([[0.61373643, 0.59231681, 0.99491208],\n",
       "       [0.90765712, 0.12758523, 0.45733901]])"
      ]
     },
     "execution_count": 48,
     "metadata": {},
     "output_type": "execute_result"
    }
   ],
   "source": [
    "np.random.rand(2,3)"
   ]
  },
  {
   "cell_type": "markdown",
   "metadata": {},
   "source": [
    "# Misc Random Functions\n",
    "Besides random.rand numpy provodes functions like random.randn, random.randint, random.randintegers, etc."
   ]
  }
 ],
 "metadata": {
  "kernelspec": {
   "display_name": "Python 3 (ipykernel)",
   "language": "python",
   "name": "python3"
  },
  "language_info": {
   "codemirror_mode": {
    "name": "ipython",
    "version": 3
   },
   "file_extension": ".py",
   "mimetype": "text/x-python",
   "name": "python",
   "nbconvert_exporter": "python",
   "pygments_lexer": "ipython3",
   "version": "3.9.7"
  }
 },
 "nbformat": 4,
 "nbformat_minor": 4
}
